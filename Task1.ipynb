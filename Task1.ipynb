{
 "cells": [
  {
   "cell_type": "code",
   "execution_count": 1,
   "id": "e6cbd17b-781e-4509-a5e1-d0eb4d10054c",
   "metadata": {},
   "outputs": [],
   "source": [
    "# required for using sklearn (use next line)\n",
    "# !pip install scikit-learn"
   ]
  },
  {
   "cell_type": "code",
   "execution_count": null,
   "id": "a4e1584f-9a5f-46a9-8d2c-27b67c30bead",
   "metadata": {},
   "outputs": [],
   "source": [
    "\"\"\"\n",
    "task 1 -\n",
    "Calculating the error on each step of the gradient descent \n",
    "algo and plotting a graph error value as function of steps.\n",
    "we have \n",
    "\"\"\"\n",
    "from sklearn.datasets import load_diabetes\n",
    "from sklearn.model_selection import train_test_split\n",
    "from sklearn.linear_model import LinearRegression\n",
    "from sklearn.metrics import mean_squared_error, r2_score\n",
    "import matplotlib.pyplot as plt\n",
    "import numpy as np\n",
    "\n",
    "# Loading the dataset\n",
    "A, b = load_diabetes(return_X_y=True)\n",
    "\n",
    "x, delta, eps = np.zeros(10), 1e-6, 1e-3 \n",
    "\n",
    "errors = [] # errors arrays for plotting the errors graph\n",
    "\n",
    "for step in range(2000):\n",
    "    \n",
    "    # A.T @ A @ x - A.T @ b => A.T(A @ x - b)\n",
    "    \n",
    "    eq = A @ x - b\n",
    "    gradient = 2 * (A.T @ eq) \n",
    "    error = np.linalg.norm(eq) ** 2 # calculating the 2nd norm for Ax - b\n",
    "    errors.append(error)\n",
    "    \n",
    "    # checking the stopping condition (gradient <= delta)\n",
    "    if np.linalg.norm(gradient) <= delta:\n",
    "        break\n",
    "\n",
    "    x = x - eps * gradient\n",
    "\n",
    "# plotting the graph for the errors \n",
    "plt.plot(errors, marker='o', linestyle='-')\n",
    "plt.title(\"Error $\\\\|Ax_k - b\\\\|^2$ over Gradient Descent Steps\")\n",
    "plt.xlabel(\"Step - k\")\n",
    "plt.ylabel(\"Error\")\n",
    "plt.grid(True)\n",
    "\n",
    "final_step = len(errors) - 1\n",
    "final_error = errors[-1]\n",
    "plt.plot(final_step, final_error, 'ro', label=f'Final Error: {final_error:.2f} 1e7')\n",
    "plt.legend()\n",
    "\n",
    "\n",
    "plt.show()"
   ]
  }
 ],
 "metadata": {
  "kernelspec": {
   "display_name": "Python 3 (ipykernel)",
   "language": "python",
   "name": "python3"
  },
  "language_info": {
   "codemirror_mode": {
    "name": "ipython",
    "version": 3
   },
   "file_extension": ".py",
   "mimetype": "text/x-python",
   "name": "python",
   "nbconvert_exporter": "python",
   "pygments_lexer": "ipython3",
   "version": "3.8.20"
  }
 },
 "nbformat": 4,
 "nbformat_minor": 5
}
